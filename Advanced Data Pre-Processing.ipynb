{
 "cells": [
  {
   "cell_type": "code",
   "execution_count": 1,
   "id": "19f5d61c",
   "metadata": {
    "ExecuteTime": {
     "end_time": "2022-09-11T16:25:19.268557Z",
     "start_time": "2022-09-11T16:25:04.626310Z"
    }
   },
   "outputs": [
    {
     "name": "stderr",
     "output_type": "stream",
     "text": [
      "[nltk_data] Error loading stopwords: <urlopen error [Errno 11001]\n",
      "[nltk_data]     getaddrinfo failed>\n"
     ]
    }
   ],
   "source": [
    "import pandas as pd \n",
    "import numpy as np\n",
    "import tensorflow as tf\n",
    "\n",
    "import regex as re\n",
    "import nltk \n",
    "nltk.download('stopwords')\n",
    "from nltk.corpus import stopwords\n",
    "stop = stopwords.words('english')\n",
    "\n",
    "from tensorflow.keras.preprocessing.text import Tokenizer\n",
    "from tensorflow.keras.preprocessing.sequence import pad_sequences"
   ]
  },
  {
   "cell_type": "code",
   "execution_count": 2,
   "id": "72c095c7",
   "metadata": {
    "ExecuteTime": {
     "end_time": "2022-09-11T16:25:19.299470Z",
     "start_time": "2022-09-11T16:25:19.280375Z"
    }
   },
   "outputs": [],
   "source": [
    "doc = ['how is your week going, I ope it is going good']"
   ]
  },
  {
   "cell_type": "code",
   "execution_count": 3,
   "id": "2931ed7b",
   "metadata": {
    "ExecuteTime": {
     "end_time": "2022-09-11T16:25:19.315064Z",
     "start_time": "2022-09-11T16:25:19.304802Z"
    }
   },
   "outputs": [],
   "source": [
    "tok = Tokenizer(oov_token='<UNK>')"
   ]
  },
  {
   "cell_type": "code",
   "execution_count": 4,
   "id": "96927720",
   "metadata": {
    "ExecuteTime": {
     "end_time": "2022-09-11T16:25:19.331577Z",
     "start_time": "2022-09-11T16:25:19.320884Z"
    }
   },
   "outputs": [],
   "source": [
    "tok.fit_on_texts(doc)"
   ]
  },
  {
   "cell_type": "code",
   "execution_count": 5,
   "id": "5eb40e54",
   "metadata": {
    "ExecuteTime": {
     "end_time": "2022-09-11T16:25:19.377412Z",
     "start_time": "2022-09-11T16:25:19.338285Z"
    }
   },
   "outputs": [
    {
     "data": {
      "text/plain": [
       "{'<UNK>': 1,\n",
       " 'is': 2,\n",
       " 'going': 3,\n",
       " 'how': 4,\n",
       " 'your': 5,\n",
       " 'week': 6,\n",
       " 'i': 7,\n",
       " 'ope': 8,\n",
       " 'it': 9,\n",
       " 'good': 10}"
      ]
     },
     "execution_count": 5,
     "metadata": {},
     "output_type": "execute_result"
    }
   ],
   "source": [
    "tok.word_index"
   ]
  },
  {
   "cell_type": "code",
   "execution_count": 6,
   "id": "679a9228",
   "metadata": {
    "ExecuteTime": {
     "end_time": "2022-09-11T16:25:19.391867Z",
     "start_time": "2022-09-11T16:25:19.383476Z"
    }
   },
   "outputs": [],
   "source": [
    "sequences = tok.texts_to_sequences(doc)"
   ]
  },
  {
   "cell_type": "code",
   "execution_count": 7,
   "id": "0e83a91e",
   "metadata": {
    "ExecuteTime": {
     "end_time": "2022-09-11T16:25:19.422427Z",
     "start_time": "2022-09-11T16:25:19.396427Z"
    }
   },
   "outputs": [
    {
     "data": {
      "text/plain": [
       "[[4, 2, 5, 6, 3, 7, 8, 9, 2, 3, 10]]"
      ]
     },
     "execution_count": 7,
     "metadata": {},
     "output_type": "execute_result"
    }
   ],
   "source": [
    "sequences"
   ]
  },
  {
   "cell_type": "code",
   "execution_count": 8,
   "id": "3c3b82ec",
   "metadata": {
    "ExecuteTime": {
     "end_time": "2022-09-11T16:25:19.438479Z",
     "start_time": "2022-09-11T16:25:19.425743Z"
    }
   },
   "outputs": [],
   "source": [
    "test_data = ['how is your week', 'today is wensdy','it is the mid day of the week','the week is going good']"
   ]
  },
  {
   "cell_type": "code",
   "execution_count": 9,
   "id": "147e3307",
   "metadata": {
    "ExecuteTime": {
     "end_time": "2022-09-11T16:25:19.453797Z",
     "start_time": "2022-09-11T16:25:19.443518Z"
    }
   },
   "outputs": [],
   "source": [
    "df = pd.DataFrame({'raw text':test_data})"
   ]
  },
  {
   "cell_type": "code",
   "execution_count": 10,
   "id": "0041ae38",
   "metadata": {
    "ExecuteTime": {
     "end_time": "2022-09-11T16:25:19.485287Z",
     "start_time": "2022-09-11T16:25:19.462319Z"
    }
   },
   "outputs": [
    {
     "data": {
      "text/html": [
       "<div>\n",
       "<style scoped>\n",
       "    .dataframe tbody tr th:only-of-type {\n",
       "        vertical-align: middle;\n",
       "    }\n",
       "\n",
       "    .dataframe tbody tr th {\n",
       "        vertical-align: top;\n",
       "    }\n",
       "\n",
       "    .dataframe thead th {\n",
       "        text-align: right;\n",
       "    }\n",
       "</style>\n",
       "<table border=\"1\" class=\"dataframe\">\n",
       "  <thead>\n",
       "    <tr style=\"text-align: right;\">\n",
       "      <th></th>\n",
       "      <th>raw text</th>\n",
       "    </tr>\n",
       "  </thead>\n",
       "  <tbody>\n",
       "    <tr>\n",
       "      <th>0</th>\n",
       "      <td>how is your week</td>\n",
       "    </tr>\n",
       "    <tr>\n",
       "      <th>1</th>\n",
       "      <td>today is wensdy</td>\n",
       "    </tr>\n",
       "    <tr>\n",
       "      <th>2</th>\n",
       "      <td>it is the mid day of the week</td>\n",
       "    </tr>\n",
       "    <tr>\n",
       "      <th>3</th>\n",
       "      <td>the week is going good</td>\n",
       "    </tr>\n",
       "  </tbody>\n",
       "</table>\n",
       "</div>"
      ],
      "text/plain": [
       "                        raw text\n",
       "0               how is your week\n",
       "1                today is wensdy\n",
       "2  it is the mid day of the week\n",
       "3         the week is going good"
      ]
     },
     "execution_count": 10,
     "metadata": {},
     "output_type": "execute_result"
    }
   ],
   "source": [
    "df"
   ]
  },
  {
   "cell_type": "code",
   "execution_count": 11,
   "id": "e7374767",
   "metadata": {
    "ExecuteTime": {
     "end_time": "2022-09-11T16:25:19.501247Z",
     "start_time": "2022-09-11T16:25:19.489904Z"
    }
   },
   "outputs": [],
   "source": [
    "df['tok_sequence'] = df['raw text'].apply(lambda x:tok.texts_to_sequences([x]))"
   ]
  },
  {
   "cell_type": "code",
   "execution_count": 12,
   "id": "3ecb6ba6",
   "metadata": {
    "ExecuteTime": {
     "end_time": "2022-09-11T16:25:19.532791Z",
     "start_time": "2022-09-11T16:25:19.510300Z"
    }
   },
   "outputs": [
    {
     "data": {
      "text/html": [
       "<div>\n",
       "<style scoped>\n",
       "    .dataframe tbody tr th:only-of-type {\n",
       "        vertical-align: middle;\n",
       "    }\n",
       "\n",
       "    .dataframe tbody tr th {\n",
       "        vertical-align: top;\n",
       "    }\n",
       "\n",
       "    .dataframe thead th {\n",
       "        text-align: right;\n",
       "    }\n",
       "</style>\n",
       "<table border=\"1\" class=\"dataframe\">\n",
       "  <thead>\n",
       "    <tr style=\"text-align: right;\">\n",
       "      <th></th>\n",
       "      <th>raw text</th>\n",
       "      <th>tok_sequence</th>\n",
       "    </tr>\n",
       "  </thead>\n",
       "  <tbody>\n",
       "    <tr>\n",
       "      <th>0</th>\n",
       "      <td>how is your week</td>\n",
       "      <td>[[4, 2, 5, 6]]</td>\n",
       "    </tr>\n",
       "    <tr>\n",
       "      <th>1</th>\n",
       "      <td>today is wensdy</td>\n",
       "      <td>[[1, 2, 1]]</td>\n",
       "    </tr>\n",
       "    <tr>\n",
       "      <th>2</th>\n",
       "      <td>it is the mid day of the week</td>\n",
       "      <td>[[9, 2, 1, 1, 1, 1, 1, 6]]</td>\n",
       "    </tr>\n",
       "    <tr>\n",
       "      <th>3</th>\n",
       "      <td>the week is going good</td>\n",
       "      <td>[[1, 6, 2, 3, 10]]</td>\n",
       "    </tr>\n",
       "  </tbody>\n",
       "</table>\n",
       "</div>"
      ],
      "text/plain": [
       "                        raw text                tok_sequence\n",
       "0               how is your week              [[4, 2, 5, 6]]\n",
       "1                today is wensdy                 [[1, 2, 1]]\n",
       "2  it is the mid day of the week  [[9, 2, 1, 1, 1, 1, 1, 6]]\n",
       "3         the week is going good          [[1, 6, 2, 3, 10]]"
      ]
     },
     "execution_count": 12,
     "metadata": {},
     "output_type": "execute_result"
    }
   ],
   "source": [
    "df"
   ]
  },
  {
   "cell_type": "code",
   "execution_count": 13,
   "id": "6775402f",
   "metadata": {
    "ExecuteTime": {
     "end_time": "2022-09-11T16:25:19.548406Z",
     "start_time": "2022-09-11T16:25:19.537801Z"
    }
   },
   "outputs": [],
   "source": [
    "df['tok_oov_sequence'] = df['raw text'].apply(lambda x:tok.texts_to_sequences([x]))"
   ]
  },
  {
   "cell_type": "code",
   "execution_count": 14,
   "id": "69ea7c20",
   "metadata": {
    "ExecuteTime": {
     "end_time": "2022-09-11T16:25:19.594540Z",
     "start_time": "2022-09-11T16:25:19.552851Z"
    }
   },
   "outputs": [
    {
     "data": {
      "text/html": [
       "<div>\n",
       "<style scoped>\n",
       "    .dataframe tbody tr th:only-of-type {\n",
       "        vertical-align: middle;\n",
       "    }\n",
       "\n",
       "    .dataframe tbody tr th {\n",
       "        vertical-align: top;\n",
       "    }\n",
       "\n",
       "    .dataframe thead th {\n",
       "        text-align: right;\n",
       "    }\n",
       "</style>\n",
       "<table border=\"1\" class=\"dataframe\">\n",
       "  <thead>\n",
       "    <tr style=\"text-align: right;\">\n",
       "      <th></th>\n",
       "      <th>raw text</th>\n",
       "      <th>tok_sequence</th>\n",
       "      <th>tok_oov_sequence</th>\n",
       "    </tr>\n",
       "  </thead>\n",
       "  <tbody>\n",
       "    <tr>\n",
       "      <th>0</th>\n",
       "      <td>how is your week</td>\n",
       "      <td>[[4, 2, 5, 6]]</td>\n",
       "      <td>[[4, 2, 5, 6]]</td>\n",
       "    </tr>\n",
       "    <tr>\n",
       "      <th>1</th>\n",
       "      <td>today is wensdy</td>\n",
       "      <td>[[1, 2, 1]]</td>\n",
       "      <td>[[1, 2, 1]]</td>\n",
       "    </tr>\n",
       "    <tr>\n",
       "      <th>2</th>\n",
       "      <td>it is the mid day of the week</td>\n",
       "      <td>[[9, 2, 1, 1, 1, 1, 1, 6]]</td>\n",
       "      <td>[[9, 2, 1, 1, 1, 1, 1, 6]]</td>\n",
       "    </tr>\n",
       "    <tr>\n",
       "      <th>3</th>\n",
       "      <td>the week is going good</td>\n",
       "      <td>[[1, 6, 2, 3, 10]]</td>\n",
       "      <td>[[1, 6, 2, 3, 10]]</td>\n",
       "    </tr>\n",
       "  </tbody>\n",
       "</table>\n",
       "</div>"
      ],
      "text/plain": [
       "                        raw text                tok_sequence  \\\n",
       "0               how is your week              [[4, 2, 5, 6]]   \n",
       "1                today is wensdy                 [[1, 2, 1]]   \n",
       "2  it is the mid day of the week  [[9, 2, 1, 1, 1, 1, 1, 6]]   \n",
       "3         the week is going good          [[1, 6, 2, 3, 10]]   \n",
       "\n",
       "             tok_oov_sequence  \n",
       "0              [[4, 2, 5, 6]]  \n",
       "1                 [[1, 2, 1]]  \n",
       "2  [[9, 2, 1, 1, 1, 1, 1, 6]]  \n",
       "3          [[1, 6, 2, 3, 10]]  "
      ]
     },
     "execution_count": 14,
     "metadata": {},
     "output_type": "execute_result"
    }
   ],
   "source": [
    "df"
   ]
  },
  {
   "cell_type": "markdown",
   "id": "2a46ff9a",
   "metadata": {},
   "source": [
    "# Padding"
   ]
  },
  {
   "cell_type": "code",
   "execution_count": 15,
   "id": "dded386e",
   "metadata": {
    "ExecuteTime": {
     "end_time": "2022-09-11T16:25:19.611569Z",
     "start_time": "2022-09-11T16:25:19.599077Z"
    }
   },
   "outputs": [],
   "source": [
    "df['pre_padding'] = df['tok_oov_sequence'].apply(lambda x:pad_sequences(x,maxlen=5,padding='pre',truncating='pre'))"
   ]
  },
  {
   "cell_type": "code",
   "execution_count": 16,
   "id": "bd0222ab",
   "metadata": {
    "ExecuteTime": {
     "end_time": "2022-09-11T16:25:19.656789Z",
     "start_time": "2022-09-11T16:25:19.617617Z"
    }
   },
   "outputs": [
    {
     "data": {
      "text/html": [
       "<div>\n",
       "<style scoped>\n",
       "    .dataframe tbody tr th:only-of-type {\n",
       "        vertical-align: middle;\n",
       "    }\n",
       "\n",
       "    .dataframe tbody tr th {\n",
       "        vertical-align: top;\n",
       "    }\n",
       "\n",
       "    .dataframe thead th {\n",
       "        text-align: right;\n",
       "    }\n",
       "</style>\n",
       "<table border=\"1\" class=\"dataframe\">\n",
       "  <thead>\n",
       "    <tr style=\"text-align: right;\">\n",
       "      <th></th>\n",
       "      <th>raw text</th>\n",
       "      <th>tok_sequence</th>\n",
       "      <th>tok_oov_sequence</th>\n",
       "      <th>pre_padding</th>\n",
       "    </tr>\n",
       "  </thead>\n",
       "  <tbody>\n",
       "    <tr>\n",
       "      <th>0</th>\n",
       "      <td>how is your week</td>\n",
       "      <td>[[4, 2, 5, 6]]</td>\n",
       "      <td>[[4, 2, 5, 6]]</td>\n",
       "      <td>[[0, 4, 2, 5, 6]]</td>\n",
       "    </tr>\n",
       "    <tr>\n",
       "      <th>1</th>\n",
       "      <td>today is wensdy</td>\n",
       "      <td>[[1, 2, 1]]</td>\n",
       "      <td>[[1, 2, 1]]</td>\n",
       "      <td>[[0, 0, 1, 2, 1]]</td>\n",
       "    </tr>\n",
       "    <tr>\n",
       "      <th>2</th>\n",
       "      <td>it is the mid day of the week</td>\n",
       "      <td>[[9, 2, 1, 1, 1, 1, 1, 6]]</td>\n",
       "      <td>[[9, 2, 1, 1, 1, 1, 1, 6]]</td>\n",
       "      <td>[[1, 1, 1, 1, 6]]</td>\n",
       "    </tr>\n",
       "    <tr>\n",
       "      <th>3</th>\n",
       "      <td>the week is going good</td>\n",
       "      <td>[[1, 6, 2, 3, 10]]</td>\n",
       "      <td>[[1, 6, 2, 3, 10]]</td>\n",
       "      <td>[[1, 6, 2, 3, 10]]</td>\n",
       "    </tr>\n",
       "  </tbody>\n",
       "</table>\n",
       "</div>"
      ],
      "text/plain": [
       "                        raw text                tok_sequence  \\\n",
       "0               how is your week              [[4, 2, 5, 6]]   \n",
       "1                today is wensdy                 [[1, 2, 1]]   \n",
       "2  it is the mid day of the week  [[9, 2, 1, 1, 1, 1, 1, 6]]   \n",
       "3         the week is going good          [[1, 6, 2, 3, 10]]   \n",
       "\n",
       "             tok_oov_sequence         pre_padding  \n",
       "0              [[4, 2, 5, 6]]   [[0, 4, 2, 5, 6]]  \n",
       "1                 [[1, 2, 1]]   [[0, 0, 1, 2, 1]]  \n",
       "2  [[9, 2, 1, 1, 1, 1, 1, 6]]   [[1, 1, 1, 1, 6]]  \n",
       "3          [[1, 6, 2, 3, 10]]  [[1, 6, 2, 3, 10]]  "
      ]
     },
     "execution_count": 16,
     "metadata": {},
     "output_type": "execute_result"
    }
   ],
   "source": [
    "df"
   ]
  },
  {
   "cell_type": "markdown",
   "id": "60b96497",
   "metadata": {},
   "source": [
    "# Porter Stammer\n"
   ]
  },
  {
   "cell_type": "code",
   "execution_count": 17,
   "id": "038a13fa",
   "metadata": {
    "ExecuteTime": {
     "end_time": "2022-09-11T16:25:19.673744Z",
     "start_time": "2022-09-11T16:25:19.661295Z"
    }
   },
   "outputs": [],
   "source": [
    "import nltk\n",
    "from nltk.stem import PorterStemmer"
   ]
  },
  {
   "cell_type": "code",
   "execution_count": 18,
   "id": "39a62267",
   "metadata": {
    "ExecuteTime": {
     "end_time": "2022-09-11T16:25:19.687998Z",
     "start_time": "2022-09-11T16:25:19.679088Z"
    }
   },
   "outputs": [],
   "source": [
    "ps = PorterStemmer()"
   ]
  },
  {
   "cell_type": "code",
   "execution_count": 19,
   "id": "37c3a547",
   "metadata": {
    "ExecuteTime": {
     "end_time": "2022-09-11T16:25:19.702991Z",
     "start_time": "2022-09-11T16:25:19.691592Z"
    }
   },
   "outputs": [],
   "source": [
    "df['stemmed_text'] = df['raw text'].apply(lambda x:ps.stem(x))"
   ]
  },
  {
   "cell_type": "code",
   "execution_count": 20,
   "id": "06d4d5e3",
   "metadata": {
    "ExecuteTime": {
     "end_time": "2022-09-11T16:25:19.748894Z",
     "start_time": "2022-09-11T16:25:19.706506Z"
    }
   },
   "outputs": [
    {
     "data": {
      "text/html": [
       "<div>\n",
       "<style scoped>\n",
       "    .dataframe tbody tr th:only-of-type {\n",
       "        vertical-align: middle;\n",
       "    }\n",
       "\n",
       "    .dataframe tbody tr th {\n",
       "        vertical-align: top;\n",
       "    }\n",
       "\n",
       "    .dataframe thead th {\n",
       "        text-align: right;\n",
       "    }\n",
       "</style>\n",
       "<table border=\"1\" class=\"dataframe\">\n",
       "  <thead>\n",
       "    <tr style=\"text-align: right;\">\n",
       "      <th></th>\n",
       "      <th>raw text</th>\n",
       "      <th>tok_sequence</th>\n",
       "      <th>tok_oov_sequence</th>\n",
       "      <th>pre_padding</th>\n",
       "      <th>stemmed_text</th>\n",
       "    </tr>\n",
       "  </thead>\n",
       "  <tbody>\n",
       "    <tr>\n",
       "      <th>0</th>\n",
       "      <td>how is your week</td>\n",
       "      <td>[[4, 2, 5, 6]]</td>\n",
       "      <td>[[4, 2, 5, 6]]</td>\n",
       "      <td>[[0, 4, 2, 5, 6]]</td>\n",
       "      <td>how is your week</td>\n",
       "    </tr>\n",
       "    <tr>\n",
       "      <th>1</th>\n",
       "      <td>today is wensdy</td>\n",
       "      <td>[[1, 2, 1]]</td>\n",
       "      <td>[[1, 2, 1]]</td>\n",
       "      <td>[[0, 0, 1, 2, 1]]</td>\n",
       "      <td>today is wensdi</td>\n",
       "    </tr>\n",
       "    <tr>\n",
       "      <th>2</th>\n",
       "      <td>it is the mid day of the week</td>\n",
       "      <td>[[9, 2, 1, 1, 1, 1, 1, 6]]</td>\n",
       "      <td>[[9, 2, 1, 1, 1, 1, 1, 6]]</td>\n",
       "      <td>[[1, 1, 1, 1, 6]]</td>\n",
       "      <td>it is the mid day of the week</td>\n",
       "    </tr>\n",
       "    <tr>\n",
       "      <th>3</th>\n",
       "      <td>the week is going good</td>\n",
       "      <td>[[1, 6, 2, 3, 10]]</td>\n",
       "      <td>[[1, 6, 2, 3, 10]]</td>\n",
       "      <td>[[1, 6, 2, 3, 10]]</td>\n",
       "      <td>the week is going good</td>\n",
       "    </tr>\n",
       "  </tbody>\n",
       "</table>\n",
       "</div>"
      ],
      "text/plain": [
       "                        raw text                tok_sequence  \\\n",
       "0               how is your week              [[4, 2, 5, 6]]   \n",
       "1                today is wensdy                 [[1, 2, 1]]   \n",
       "2  it is the mid day of the week  [[9, 2, 1, 1, 1, 1, 1, 6]]   \n",
       "3         the week is going good          [[1, 6, 2, 3, 10]]   \n",
       "\n",
       "             tok_oov_sequence         pre_padding  \\\n",
       "0              [[4, 2, 5, 6]]   [[0, 4, 2, 5, 6]]   \n",
       "1                 [[1, 2, 1]]   [[0, 0, 1, 2, 1]]   \n",
       "2  [[9, 2, 1, 1, 1, 1, 1, 6]]   [[1, 1, 1, 1, 6]]   \n",
       "3          [[1, 6, 2, 3, 10]]  [[1, 6, 2, 3, 10]]   \n",
       "\n",
       "                    stemmed_text  \n",
       "0               how is your week  \n",
       "1                today is wensdi  \n",
       "2  it is the mid day of the week  \n",
       "3         the week is going good  "
      ]
     },
     "execution_count": 20,
     "metadata": {},
     "output_type": "execute_result"
    }
   ],
   "source": [
    "df"
   ]
  },
  {
   "cell_type": "markdown",
   "id": "56704772",
   "metadata": {},
   "source": [
    "## Lemmatizer"
   ]
  },
  {
   "cell_type": "code",
   "execution_count": 21,
   "id": "c1830b33",
   "metadata": {
    "ExecuteTime": {
     "end_time": "2022-09-11T16:25:19.859414Z",
     "start_time": "2022-09-11T16:25:19.752834Z"
    }
   },
   "outputs": [
    {
     "name": "stderr",
     "output_type": "stream",
     "text": [
      "[nltk_data] Error loading wordnet: <urlopen error [Errno 11001]\n",
      "[nltk_data]     getaddrinfo failed>\n",
      "[nltk_data] Error loading omw-1.4: <urlopen error [Errno 11001]\n",
      "[nltk_data]     getaddrinfo failed>\n"
     ]
    },
    {
     "data": {
      "text/plain": [
       "False"
      ]
     },
     "execution_count": 21,
     "metadata": {},
     "output_type": "execute_result"
    }
   ],
   "source": [
    "from nltk.stem import WordNetLemmatizer\n",
    "nltk.download('wordnet')\n",
    "nltk.download('omw-1.4')"
   ]
  },
  {
   "cell_type": "code",
   "execution_count": 22,
   "id": "f8a7eb74",
   "metadata": {
    "ExecuteTime": {
     "end_time": "2022-09-11T16:25:19.889292Z",
     "start_time": "2022-09-11T16:25:19.866520Z"
    }
   },
   "outputs": [],
   "source": [
    "lm = WordNetLemmatizer()"
   ]
  },
  {
   "cell_type": "code",
   "execution_count": 23,
   "id": "30bd7372",
   "metadata": {
    "ExecuteTime": {
     "end_time": "2022-09-11T16:25:24.905032Z",
     "start_time": "2022-09-11T16:25:19.892663Z"
    }
   },
   "outputs": [],
   "source": [
    "df['Lemmed_text'] = df['raw text'].apply(lambda x: lm.lemmatize(x))"
   ]
  },
  {
   "cell_type": "code",
   "execution_count": 24,
   "id": "d74d1c4c",
   "metadata": {
    "ExecuteTime": {
     "end_time": "2022-09-11T16:25:24.953706Z",
     "start_time": "2022-09-11T16:25:24.905032Z"
    }
   },
   "outputs": [
    {
     "data": {
      "text/html": [
       "<div>\n",
       "<style scoped>\n",
       "    .dataframe tbody tr th:only-of-type {\n",
       "        vertical-align: middle;\n",
       "    }\n",
       "\n",
       "    .dataframe tbody tr th {\n",
       "        vertical-align: top;\n",
       "    }\n",
       "\n",
       "    .dataframe thead th {\n",
       "        text-align: right;\n",
       "    }\n",
       "</style>\n",
       "<table border=\"1\" class=\"dataframe\">\n",
       "  <thead>\n",
       "    <tr style=\"text-align: right;\">\n",
       "      <th></th>\n",
       "      <th>raw text</th>\n",
       "      <th>tok_sequence</th>\n",
       "      <th>tok_oov_sequence</th>\n",
       "      <th>pre_padding</th>\n",
       "      <th>stemmed_text</th>\n",
       "      <th>Lemmed_text</th>\n",
       "    </tr>\n",
       "  </thead>\n",
       "  <tbody>\n",
       "    <tr>\n",
       "      <th>0</th>\n",
       "      <td>how is your week</td>\n",
       "      <td>[[4, 2, 5, 6]]</td>\n",
       "      <td>[[4, 2, 5, 6]]</td>\n",
       "      <td>[[0, 4, 2, 5, 6]]</td>\n",
       "      <td>how is your week</td>\n",
       "      <td>how is your week</td>\n",
       "    </tr>\n",
       "    <tr>\n",
       "      <th>1</th>\n",
       "      <td>today is wensdy</td>\n",
       "      <td>[[1, 2, 1]]</td>\n",
       "      <td>[[1, 2, 1]]</td>\n",
       "      <td>[[0, 0, 1, 2, 1]]</td>\n",
       "      <td>today is wensdi</td>\n",
       "      <td>today is wensdy</td>\n",
       "    </tr>\n",
       "    <tr>\n",
       "      <th>2</th>\n",
       "      <td>it is the mid day of the week</td>\n",
       "      <td>[[9, 2, 1, 1, 1, 1, 1, 6]]</td>\n",
       "      <td>[[9, 2, 1, 1, 1, 1, 1, 6]]</td>\n",
       "      <td>[[1, 1, 1, 1, 6]]</td>\n",
       "      <td>it is the mid day of the week</td>\n",
       "      <td>it is the mid day of the week</td>\n",
       "    </tr>\n",
       "    <tr>\n",
       "      <th>3</th>\n",
       "      <td>the week is going good</td>\n",
       "      <td>[[1, 6, 2, 3, 10]]</td>\n",
       "      <td>[[1, 6, 2, 3, 10]]</td>\n",
       "      <td>[[1, 6, 2, 3, 10]]</td>\n",
       "      <td>the week is going good</td>\n",
       "      <td>the week is going good</td>\n",
       "    </tr>\n",
       "  </tbody>\n",
       "</table>\n",
       "</div>"
      ],
      "text/plain": [
       "                        raw text                tok_sequence  \\\n",
       "0               how is your week              [[4, 2, 5, 6]]   \n",
       "1                today is wensdy                 [[1, 2, 1]]   \n",
       "2  it is the mid day of the week  [[9, 2, 1, 1, 1, 1, 1, 6]]   \n",
       "3         the week is going good          [[1, 6, 2, 3, 10]]   \n",
       "\n",
       "             tok_oov_sequence         pre_padding  \\\n",
       "0              [[4, 2, 5, 6]]   [[0, 4, 2, 5, 6]]   \n",
       "1                 [[1, 2, 1]]   [[0, 0, 1, 2, 1]]   \n",
       "2  [[9, 2, 1, 1, 1, 1, 1, 6]]   [[1, 1, 1, 1, 6]]   \n",
       "3          [[1, 6, 2, 3, 10]]  [[1, 6, 2, 3, 10]]   \n",
       "\n",
       "                    stemmed_text                    Lemmed_text  \n",
       "0               how is your week               how is your week  \n",
       "1                today is wensdi                today is wensdy  \n",
       "2  it is the mid day of the week  it is the mid day of the week  \n",
       "3         the week is going good         the week is going good  "
      ]
     },
     "execution_count": 24,
     "metadata": {},
     "output_type": "execute_result"
    }
   ],
   "source": [
    "df"
   ]
  },
  {
   "cell_type": "code",
   "execution_count": 25,
   "id": "4e565a9c",
   "metadata": {
    "ExecuteTime": {
     "end_time": "2022-09-11T16:25:24.966142Z",
     "start_time": "2022-09-11T16:25:24.957750Z"
    }
   },
   "outputs": [],
   "source": [
    "assigment_data = [\"India, officially the Republic of India (Hindi: Bhārat Gaṇarājya),[26] is a country in South Asia. It is the seventh-largest country by area, the second-most populous country, and the most populous democracy in the world. Bounded by the Indian Ocean on the south, the Arabian Sea on the southwest, and the Bay of Bengal on the southeast, it shares land borders with Pakistan to the west;[f] China, Nepal, and Bhutan to the north; and Bangladesh and Myanmar to the east. In the Indian Ocean, India is in the vicinity of Sri Lanka and the Maldives; its Andaman and Nicobar Islands share a maritime border with Thailand, Myanmar, and Indonesia. The nation's capital city is New Delhi.\"]"
   ]
  },
  {
   "cell_type": "code",
   "execution_count": 26,
   "id": "a97bacad",
   "metadata": {
    "ExecuteTime": {
     "end_time": "2022-09-11T16:25:24.996945Z",
     "start_time": "2022-09-11T16:25:24.979116Z"
    }
   },
   "outputs": [
    {
     "data": {
      "text/plain": [
       "[\"India, officially the Republic of India (Hindi: Bhārat Gaṇarājya),[26] is a country in South Asia. It is the seventh-largest country by area, the second-most populous country, and the most populous democracy in the world. Bounded by the Indian Ocean on the south, the Arabian Sea on the southwest, and the Bay of Bengal on the southeast, it shares land borders with Pakistan to the west;[f] China, Nepal, and Bhutan to the north; and Bangladesh and Myanmar to the east. In the Indian Ocean, India is in the vicinity of Sri Lanka and the Maldives; its Andaman and Nicobar Islands share a maritime border with Thailand, Myanmar, and Indonesia. The nation's capital city is New Delhi.\"]"
      ]
     },
     "execution_count": 26,
     "metadata": {},
     "output_type": "execute_result"
    }
   ],
   "source": [
    "assigment_data"
   ]
  },
  {
   "cell_type": "code",
   "execution_count": 27,
   "id": "2603c1f5",
   "metadata": {
    "ExecuteTime": {
     "end_time": "2022-09-11T16:25:25.027438Z",
     "start_time": "2022-09-11T16:25:25.014175Z"
    }
   },
   "outputs": [],
   "source": [
    "str = \" \"\n",
    "assigment_data = str.join(assigment_data)"
   ]
  },
  {
   "cell_type": "code",
   "execution_count": 28,
   "id": "cb414357",
   "metadata": {
    "ExecuteTime": {
     "end_time": "2022-09-11T16:25:25.042657Z",
     "start_time": "2022-09-11T16:25:25.031324Z"
    }
   },
   "outputs": [],
   "source": [
    "def data_cleaning(text):\n",
    "    text = text.lower() # convert everything into lower case\n",
    "    text = re.sub('[^a-z]',' ',text) #only allowed small a-z\n",
    "    words = text.split()\n",
    "    imp_words = [w for w in words if w not in stop]\n",
    "    return ' '.join(imp_words)"
   ]
  },
  {
   "cell_type": "code",
   "execution_count": 29,
   "id": "1320e8e1",
   "metadata": {
    "ExecuteTime": {
     "end_time": "2022-09-11T16:25:25.057820Z",
     "start_time": "2022-09-11T16:25:25.046156Z"
    }
   },
   "outputs": [],
   "source": [
    "main_data = data_cleaning(assigment_data)"
   ]
  },
  {
   "cell_type": "code",
   "execution_count": 30,
   "id": "513926a4",
   "metadata": {
    "ExecuteTime": {
     "end_time": "2022-09-11T16:25:25.073811Z",
     "start_time": "2022-09-11T16:25:25.060619Z"
    }
   },
   "outputs": [
    {
     "data": {
      "text/plain": [
       "'india officially republic india hindi bh rat ga ar jya country south asia seventh largest country area second populous country populous democracy world bounded indian ocean south arabian sea southwest bay bengal southeast shares land borders pakistan west f china nepal bhutan north bangladesh myanmar east indian ocean india vicinity sri lanka maldives andaman nicobar islands share maritime border thailand myanmar indonesia nation capital city new delhi'"
      ]
     },
     "execution_count": 30,
     "metadata": {},
     "output_type": "execute_result"
    }
   ],
   "source": [
    "main_data"
   ]
  },
  {
   "cell_type": "code",
   "execution_count": 31,
   "id": "2b517311",
   "metadata": {
    "ExecuteTime": {
     "end_time": "2022-09-11T16:25:25.089028Z",
     "start_time": "2022-09-11T16:25:25.076896Z"
    }
   },
   "outputs": [],
   "source": [
    "tok1 = Tokenizer(oov_token='<UNK>')"
   ]
  },
  {
   "cell_type": "code",
   "execution_count": 32,
   "id": "7d702175",
   "metadata": {
    "ExecuteTime": {
     "end_time": "2022-09-11T16:25:25.119396Z",
     "start_time": "2022-09-11T16:25:25.093017Z"
    }
   },
   "outputs": [],
   "source": [
    "tok1.fit_on_texts(assigment_data)"
   ]
  },
  {
   "cell_type": "code",
   "execution_count": 33,
   "id": "618ffdb8",
   "metadata": {
    "ExecuteTime": {
     "end_time": "2022-09-11T16:25:25.150134Z",
     "start_time": "2022-09-11T16:25:25.131048Z"
    }
   },
   "outputs": [
    {
     "data": {
      "text/plain": [
       "{'<UNK>': 1,\n",
       " 'a': 2,\n",
       " 'n': 3,\n",
       " 't': 4,\n",
       " 'i': 5,\n",
       " 'e': 6,\n",
       " 'o': 7,\n",
       " 'h': 8,\n",
       " 's': 9,\n",
       " 'd': 10,\n",
       " 'r': 11,\n",
       " 'l': 12,\n",
       " 'c': 13,\n",
       " 'u': 14,\n",
       " 'y': 15,\n",
       " 'b': 16,\n",
       " 'm': 17,\n",
       " 'p': 18,\n",
       " 'f': 19,\n",
       " 'w': 20,\n",
       " 'g': 21,\n",
       " 'v': 22,\n",
       " 'ā': 23,\n",
       " 'k': 24,\n",
       " 'ṇ': 25,\n",
       " 'j': 26,\n",
       " '2': 27,\n",
       " '6': 28,\n",
       " \"'\": 29}"
      ]
     },
     "execution_count": 33,
     "metadata": {},
     "output_type": "execute_result"
    }
   ],
   "source": [
    "tok1.word_index"
   ]
  },
  {
   "cell_type": "code",
   "execution_count": 34,
   "id": "d886a48b",
   "metadata": {
    "ExecuteTime": {
     "end_time": "2022-09-11T16:25:25.180608Z",
     "start_time": "2022-09-11T16:25:25.157808Z"
    }
   },
   "outputs": [],
   "source": [
    "sequences1 = tok1.texts_to_sequences(assigment_data)"
   ]
  },
  {
   "cell_type": "code",
   "execution_count": 35,
   "id": "22f34234",
   "metadata": {
    "ExecuteTime": {
     "end_time": "2022-09-11T16:25:25.228618Z",
     "start_time": "2022-09-11T16:25:25.183742Z"
    }
   },
   "outputs": [
    {
     "data": {
      "text/plain": [
       "[[5],\n",
       " [3],\n",
       " [10],\n",
       " [5],\n",
       " [2],\n",
       " [],\n",
       " [],\n",
       " [7],\n",
       " [19],\n",
       " [19],\n",
       " [5],\n",
       " [13],\n",
       " [5],\n",
       " [2],\n",
       " [12],\n",
       " [12],\n",
       " [15],\n",
       " [],\n",
       " [4],\n",
       " [8],\n",
       " [6],\n",
       " [],\n",
       " [11],\n",
       " [6],\n",
       " [18],\n",
       " [14],\n",
       " [16],\n",
       " [12],\n",
       " [5],\n",
       " [13],\n",
       " [],\n",
       " [7],\n",
       " [19],\n",
       " [],\n",
       " [5],\n",
       " [3],\n",
       " [10],\n",
       " [5],\n",
       " [2],\n",
       " [],\n",
       " [],\n",
       " [8],\n",
       " [5],\n",
       " [3],\n",
       " [10],\n",
       " [5],\n",
       " [],\n",
       " [],\n",
       " [16],\n",
       " [8],\n",
       " [23],\n",
       " [11],\n",
       " [2],\n",
       " [4],\n",
       " [],\n",
       " [21],\n",
       " [2],\n",
       " [25],\n",
       " [2],\n",
       " [11],\n",
       " [23],\n",
       " [26],\n",
       " [15],\n",
       " [2],\n",
       " [],\n",
       " [],\n",
       " [],\n",
       " [27],\n",
       " [28],\n",
       " [],\n",
       " [],\n",
       " [5],\n",
       " [9],\n",
       " [],\n",
       " [2],\n",
       " [],\n",
       " [13],\n",
       " [7],\n",
       " [14],\n",
       " [3],\n",
       " [4],\n",
       " [11],\n",
       " [15],\n",
       " [],\n",
       " [5],\n",
       " [3],\n",
       " [],\n",
       " [9],\n",
       " [7],\n",
       " [14],\n",
       " [4],\n",
       " [8],\n",
       " [],\n",
       " [2],\n",
       " [9],\n",
       " [5],\n",
       " [2],\n",
       " [],\n",
       " [],\n",
       " [5],\n",
       " [4],\n",
       " [],\n",
       " [5],\n",
       " [9],\n",
       " [],\n",
       " [4],\n",
       " [8],\n",
       " [6],\n",
       " [],\n",
       " [9],\n",
       " [6],\n",
       " [22],\n",
       " [6],\n",
       " [3],\n",
       " [4],\n",
       " [8],\n",
       " [],\n",
       " [12],\n",
       " [2],\n",
       " [11],\n",
       " [21],\n",
       " [6],\n",
       " [9],\n",
       " [4],\n",
       " [],\n",
       " [13],\n",
       " [7],\n",
       " [14],\n",
       " [3],\n",
       " [4],\n",
       " [11],\n",
       " [15],\n",
       " [],\n",
       " [16],\n",
       " [15],\n",
       " [],\n",
       " [2],\n",
       " [11],\n",
       " [6],\n",
       " [2],\n",
       " [],\n",
       " [],\n",
       " [4],\n",
       " [8],\n",
       " [6],\n",
       " [],\n",
       " [9],\n",
       " [6],\n",
       " [13],\n",
       " [7],\n",
       " [3],\n",
       " [10],\n",
       " [],\n",
       " [17],\n",
       " [7],\n",
       " [9],\n",
       " [4],\n",
       " [],\n",
       " [18],\n",
       " [7],\n",
       " [18],\n",
       " [14],\n",
       " [12],\n",
       " [7],\n",
       " [14],\n",
       " [9],\n",
       " [],\n",
       " [13],\n",
       " [7],\n",
       " [14],\n",
       " [3],\n",
       " [4],\n",
       " [11],\n",
       " [15],\n",
       " [],\n",
       " [],\n",
       " [2],\n",
       " [3],\n",
       " [10],\n",
       " [],\n",
       " [4],\n",
       " [8],\n",
       " [6],\n",
       " [],\n",
       " [17],\n",
       " [7],\n",
       " [9],\n",
       " [4],\n",
       " [],\n",
       " [18],\n",
       " [7],\n",
       " [18],\n",
       " [14],\n",
       " [12],\n",
       " [7],\n",
       " [14],\n",
       " [9],\n",
       " [],\n",
       " [10],\n",
       " [6],\n",
       " [17],\n",
       " [7],\n",
       " [13],\n",
       " [11],\n",
       " [2],\n",
       " [13],\n",
       " [15],\n",
       " [],\n",
       " [5],\n",
       " [3],\n",
       " [],\n",
       " [4],\n",
       " [8],\n",
       " [6],\n",
       " [],\n",
       " [20],\n",
       " [7],\n",
       " [11],\n",
       " [12],\n",
       " [10],\n",
       " [],\n",
       " [],\n",
       " [16],\n",
       " [7],\n",
       " [14],\n",
       " [3],\n",
       " [10],\n",
       " [6],\n",
       " [10],\n",
       " [],\n",
       " [16],\n",
       " [15],\n",
       " [],\n",
       " [4],\n",
       " [8],\n",
       " [6],\n",
       " [],\n",
       " [5],\n",
       " [3],\n",
       " [10],\n",
       " [5],\n",
       " [2],\n",
       " [3],\n",
       " [],\n",
       " [7],\n",
       " [13],\n",
       " [6],\n",
       " [2],\n",
       " [3],\n",
       " [],\n",
       " [7],\n",
       " [3],\n",
       " [],\n",
       " [4],\n",
       " [8],\n",
       " [6],\n",
       " [],\n",
       " [9],\n",
       " [7],\n",
       " [14],\n",
       " [4],\n",
       " [8],\n",
       " [],\n",
       " [],\n",
       " [4],\n",
       " [8],\n",
       " [6],\n",
       " [],\n",
       " [2],\n",
       " [11],\n",
       " [2],\n",
       " [16],\n",
       " [5],\n",
       " [2],\n",
       " [3],\n",
       " [],\n",
       " [9],\n",
       " [6],\n",
       " [2],\n",
       " [],\n",
       " [7],\n",
       " [3],\n",
       " [],\n",
       " [4],\n",
       " [8],\n",
       " [6],\n",
       " [],\n",
       " [9],\n",
       " [7],\n",
       " [14],\n",
       " [4],\n",
       " [8],\n",
       " [20],\n",
       " [6],\n",
       " [9],\n",
       " [4],\n",
       " [],\n",
       " [],\n",
       " [2],\n",
       " [3],\n",
       " [10],\n",
       " [],\n",
       " [4],\n",
       " [8],\n",
       " [6],\n",
       " [],\n",
       " [16],\n",
       " [2],\n",
       " [15],\n",
       " [],\n",
       " [7],\n",
       " [19],\n",
       " [],\n",
       " [16],\n",
       " [6],\n",
       " [3],\n",
       " [21],\n",
       " [2],\n",
       " [12],\n",
       " [],\n",
       " [7],\n",
       " [3],\n",
       " [],\n",
       " [4],\n",
       " [8],\n",
       " [6],\n",
       " [],\n",
       " [9],\n",
       " [7],\n",
       " [14],\n",
       " [4],\n",
       " [8],\n",
       " [6],\n",
       " [2],\n",
       " [9],\n",
       " [4],\n",
       " [],\n",
       " [],\n",
       " [5],\n",
       " [4],\n",
       " [],\n",
       " [9],\n",
       " [8],\n",
       " [2],\n",
       " [11],\n",
       " [6],\n",
       " [9],\n",
       " [],\n",
       " [12],\n",
       " [2],\n",
       " [3],\n",
       " [10],\n",
       " [],\n",
       " [16],\n",
       " [7],\n",
       " [11],\n",
       " [10],\n",
       " [6],\n",
       " [11],\n",
       " [9],\n",
       " [],\n",
       " [20],\n",
       " [5],\n",
       " [4],\n",
       " [8],\n",
       " [],\n",
       " [18],\n",
       " [2],\n",
       " [24],\n",
       " [5],\n",
       " [9],\n",
       " [4],\n",
       " [2],\n",
       " [3],\n",
       " [],\n",
       " [4],\n",
       " [7],\n",
       " [],\n",
       " [4],\n",
       " [8],\n",
       " [6],\n",
       " [],\n",
       " [20],\n",
       " [6],\n",
       " [9],\n",
       " [4],\n",
       " [],\n",
       " [],\n",
       " [19],\n",
       " [],\n",
       " [],\n",
       " [13],\n",
       " [8],\n",
       " [5],\n",
       " [3],\n",
       " [2],\n",
       " [],\n",
       " [],\n",
       " [3],\n",
       " [6],\n",
       " [18],\n",
       " [2],\n",
       " [12],\n",
       " [],\n",
       " [],\n",
       " [2],\n",
       " [3],\n",
       " [10],\n",
       " [],\n",
       " [16],\n",
       " [8],\n",
       " [14],\n",
       " [4],\n",
       " [2],\n",
       " [3],\n",
       " [],\n",
       " [4],\n",
       " [7],\n",
       " [],\n",
       " [4],\n",
       " [8],\n",
       " [6],\n",
       " [],\n",
       " [3],\n",
       " [7],\n",
       " [11],\n",
       " [4],\n",
       " [8],\n",
       " [],\n",
       " [],\n",
       " [2],\n",
       " [3],\n",
       " [10],\n",
       " [],\n",
       " [16],\n",
       " [2],\n",
       " [3],\n",
       " [21],\n",
       " [12],\n",
       " [2],\n",
       " [10],\n",
       " [6],\n",
       " [9],\n",
       " [8],\n",
       " [],\n",
       " [2],\n",
       " [3],\n",
       " [10],\n",
       " [],\n",
       " [17],\n",
       " [15],\n",
       " [2],\n",
       " [3],\n",
       " [17],\n",
       " [2],\n",
       " [11],\n",
       " [],\n",
       " [4],\n",
       " [7],\n",
       " [],\n",
       " [4],\n",
       " [8],\n",
       " [6],\n",
       " [],\n",
       " [6],\n",
       " [2],\n",
       " [9],\n",
       " [4],\n",
       " [],\n",
       " [],\n",
       " [5],\n",
       " [3],\n",
       " [],\n",
       " [4],\n",
       " [8],\n",
       " [6],\n",
       " [],\n",
       " [5],\n",
       " [3],\n",
       " [10],\n",
       " [5],\n",
       " [2],\n",
       " [3],\n",
       " [],\n",
       " [7],\n",
       " [13],\n",
       " [6],\n",
       " [2],\n",
       " [3],\n",
       " [],\n",
       " [],\n",
       " [5],\n",
       " [3],\n",
       " [10],\n",
       " [5],\n",
       " [2],\n",
       " [],\n",
       " [5],\n",
       " [9],\n",
       " [],\n",
       " [5],\n",
       " [3],\n",
       " [],\n",
       " [4],\n",
       " [8],\n",
       " [6],\n",
       " [],\n",
       " [22],\n",
       " [5],\n",
       " [13],\n",
       " [5],\n",
       " [3],\n",
       " [5],\n",
       " [4],\n",
       " [15],\n",
       " [],\n",
       " [7],\n",
       " [19],\n",
       " [],\n",
       " [9],\n",
       " [11],\n",
       " [5],\n",
       " [],\n",
       " [12],\n",
       " [2],\n",
       " [3],\n",
       " [24],\n",
       " [2],\n",
       " [],\n",
       " [2],\n",
       " [3],\n",
       " [10],\n",
       " [],\n",
       " [4],\n",
       " [8],\n",
       " [6],\n",
       " [],\n",
       " [17],\n",
       " [2],\n",
       " [12],\n",
       " [10],\n",
       " [5],\n",
       " [22],\n",
       " [6],\n",
       " [9],\n",
       " [],\n",
       " [],\n",
       " [5],\n",
       " [4],\n",
       " [9],\n",
       " [],\n",
       " [2],\n",
       " [3],\n",
       " [10],\n",
       " [2],\n",
       " [17],\n",
       " [2],\n",
       " [3],\n",
       " [],\n",
       " [2],\n",
       " [3],\n",
       " [10],\n",
       " [],\n",
       " [3],\n",
       " [5],\n",
       " [13],\n",
       " [7],\n",
       " [16],\n",
       " [2],\n",
       " [11],\n",
       " [],\n",
       " [5],\n",
       " [9],\n",
       " [12],\n",
       " [2],\n",
       " [3],\n",
       " [10],\n",
       " [9],\n",
       " [],\n",
       " [9],\n",
       " [8],\n",
       " [2],\n",
       " [11],\n",
       " [6],\n",
       " [],\n",
       " [2],\n",
       " [],\n",
       " [17],\n",
       " [2],\n",
       " [11],\n",
       " [5],\n",
       " [4],\n",
       " [5],\n",
       " [17],\n",
       " [6],\n",
       " [],\n",
       " [16],\n",
       " [7],\n",
       " [11],\n",
       " [10],\n",
       " [6],\n",
       " [11],\n",
       " [],\n",
       " [20],\n",
       " [5],\n",
       " [4],\n",
       " [8],\n",
       " [],\n",
       " [4],\n",
       " [8],\n",
       " [2],\n",
       " [5],\n",
       " [12],\n",
       " [2],\n",
       " [3],\n",
       " [10],\n",
       " [],\n",
       " [],\n",
       " [17],\n",
       " [15],\n",
       " [2],\n",
       " [3],\n",
       " [17],\n",
       " [2],\n",
       " [11],\n",
       " [],\n",
       " [],\n",
       " [2],\n",
       " [3],\n",
       " [10],\n",
       " [],\n",
       " [5],\n",
       " [3],\n",
       " [10],\n",
       " [7],\n",
       " [3],\n",
       " [6],\n",
       " [9],\n",
       " [5],\n",
       " [2],\n",
       " [],\n",
       " [],\n",
       " [4],\n",
       " [8],\n",
       " [6],\n",
       " [],\n",
       " [3],\n",
       " [2],\n",
       " [4],\n",
       " [5],\n",
       " [7],\n",
       " [3],\n",
       " [29],\n",
       " [9],\n",
       " [],\n",
       " [13],\n",
       " [2],\n",
       " [18],\n",
       " [5],\n",
       " [4],\n",
       " [2],\n",
       " [12],\n",
       " [],\n",
       " [13],\n",
       " [5],\n",
       " [4],\n",
       " [15],\n",
       " [],\n",
       " [5],\n",
       " [9],\n",
       " [],\n",
       " [3],\n",
       " [6],\n",
       " [20],\n",
       " [],\n",
       " [10],\n",
       " [6],\n",
       " [12],\n",
       " [8],\n",
       " [5],\n",
       " []]"
      ]
     },
     "execution_count": 35,
     "metadata": {},
     "output_type": "execute_result"
    }
   ],
   "source": [
    "sequences1"
   ]
  },
  {
   "cell_type": "markdown",
   "id": "be3ed108",
   "metadata": {},
   "source": [
    "# Porter Stemmer"
   ]
  },
  {
   "cell_type": "code",
   "execution_count": 37,
   "id": "64e669e4",
   "metadata": {
    "ExecuteTime": {
     "end_time": "2022-09-11T16:28:10.227287Z",
     "start_time": "2022-09-11T16:28:10.215609Z"
    }
   },
   "outputs": [],
   "source": [
    "porter_stemmer = ps.stem(main_data)"
   ]
  },
  {
   "cell_type": "code",
   "execution_count": 38,
   "id": "8108b9ce",
   "metadata": {
    "ExecuteTime": {
     "end_time": "2022-09-11T16:28:16.342157Z",
     "start_time": "2022-09-11T16:28:16.321726Z"
    }
   },
   "outputs": [
    {
     "data": {
      "text/plain": [
       "'india officially republic india hindi bh rat ga ar jya country south asia seventh largest country area second populous country populous democracy world bounded indian ocean south arabian sea southwest bay bengal southeast shares land borders pakistan west f china nepal bhutan north bangladesh myanmar east indian ocean india vicinity sri lanka maldives andaman nicobar islands share maritime border thailand myanmar indonesia nation capital city new delhi'"
      ]
     },
     "execution_count": 38,
     "metadata": {},
     "output_type": "execute_result"
    }
   ],
   "source": [
    "porter_stemmer"
   ]
  },
  {
   "cell_type": "markdown",
   "id": "75efdbe1",
   "metadata": {},
   "source": [
    "# Lemmatizer"
   ]
  },
  {
   "cell_type": "code",
   "execution_count": 39,
   "id": "91170729",
   "metadata": {
    "ExecuteTime": {
     "end_time": "2022-09-11T16:28:46.550540Z",
     "start_time": "2022-09-11T16:28:46.533334Z"
    }
   },
   "outputs": [],
   "source": [
    "Lemmatizer =  lm.lemmatize(main_data)"
   ]
  },
  {
   "cell_type": "code",
   "execution_count": 40,
   "id": "c1230ff1",
   "metadata": {
    "ExecuteTime": {
     "end_time": "2022-09-11T16:28:51.610620Z",
     "start_time": "2022-09-11T16:28:51.595785Z"
    }
   },
   "outputs": [
    {
     "data": {
      "text/plain": [
       "'india officially republic india hindi bh rat ga ar jya country south asia seventh largest country area second populous country populous democracy world bounded indian ocean south arabian sea southwest bay bengal southeast shares land borders pakistan west f china nepal bhutan north bangladesh myanmar east indian ocean india vicinity sri lanka maldives andaman nicobar islands share maritime border thailand myanmar indonesia nation capital city new delhi'"
      ]
     },
     "execution_count": 40,
     "metadata": {},
     "output_type": "execute_result"
    }
   ],
   "source": [
    "Lemmatizer"
   ]
  },
  {
   "cell_type": "code",
   "execution_count": null,
   "id": "5792233e",
   "metadata": {},
   "outputs": [],
   "source": []
  }
 ],
 "metadata": {
  "kernelspec": {
   "display_name": "Python 3 (ipykernel)",
   "language": "python",
   "name": "python3"
  },
  "language_info": {
   "codemirror_mode": {
    "name": "ipython",
    "version": 3
   },
   "file_extension": ".py",
   "mimetype": "text/x-python",
   "name": "python",
   "nbconvert_exporter": "python",
   "pygments_lexer": "ipython3",
   "version": "3.9.12"
  }
 },
 "nbformat": 4,
 "nbformat_minor": 5
}
